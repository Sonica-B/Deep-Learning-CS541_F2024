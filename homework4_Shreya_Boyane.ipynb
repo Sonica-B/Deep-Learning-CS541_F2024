{
  "nbformat": 4,
  "nbformat_minor": 0,
  "metadata": {
    "colab": {
      "provenance": [],
      "authorship_tag": "ABX9TyNwXeCA+z8LzrCYkIKPOPGz",
      "include_colab_link": true
    },
    "kernelspec": {
      "name": "python3",
      "display_name": "Python 3"
    },
    "language_info": {
      "name": "python"
    }
  },
  "cells": [
    {
      "cell_type": "markdown",
      "metadata": {
        "id": "view-in-github",
        "colab_type": "text"
      },
      "source": [
        "<a href=\"https://colab.research.google.com/github/Sonica-B/Deep-Learning-CS541_F2024/blob/HomeWork4/homework4_Shreya_Boyane.ipynb\" target=\"_parent\"><img src=\"https://colab.research.google.com/assets/colab-badge.svg\" alt=\"Open In Colab\"/></a>"
      ]
    },
    {
      "cell_type": "code",
      "execution_count": 1,
      "metadata": {
        "colab": {
          "base_uri": "https://localhost:8080/"
        },
        "id": "o0h5Ucl5Z1LG",
        "outputId": "d8ba2042-f2d9-40b1-e94e-5734d06dea7a"
      },
      "outputs": [
        {
          "output_type": "stream",
          "name": "stdout",
          "text": [
            "Downloading http://fashion-mnist.s3-website.eu-central-1.amazonaws.com/train-images-idx3-ubyte.gz\n",
            "Downloading http://fashion-mnist.s3-website.eu-central-1.amazonaws.com/train-images-idx3-ubyte.gz to ./data/FashionMNIST/raw/train-images-idx3-ubyte.gz\n"
          ]
        },
        {
          "output_type": "stream",
          "name": "stderr",
          "text": [
            "100%|██████████| 26.4M/26.4M [00:03<00:00, 7.79MB/s]\n"
          ]
        },
        {
          "output_type": "stream",
          "name": "stdout",
          "text": [
            "Extracting ./data/FashionMNIST/raw/train-images-idx3-ubyte.gz to ./data/FashionMNIST/raw\n",
            "\n",
            "Downloading http://fashion-mnist.s3-website.eu-central-1.amazonaws.com/train-labels-idx1-ubyte.gz\n",
            "Downloading http://fashion-mnist.s3-website.eu-central-1.amazonaws.com/train-labels-idx1-ubyte.gz to ./data/FashionMNIST/raw/train-labels-idx1-ubyte.gz\n"
          ]
        },
        {
          "output_type": "stream",
          "name": "stderr",
          "text": [
            "100%|██████████| 29.5k/29.5k [00:00<00:00, 135kB/s]\n"
          ]
        },
        {
          "output_type": "stream",
          "name": "stdout",
          "text": [
            "Extracting ./data/FashionMNIST/raw/train-labels-idx1-ubyte.gz to ./data/FashionMNIST/raw\n",
            "\n",
            "Downloading http://fashion-mnist.s3-website.eu-central-1.amazonaws.com/t10k-images-idx3-ubyte.gz\n",
            "Downloading http://fashion-mnist.s3-website.eu-central-1.amazonaws.com/t10k-images-idx3-ubyte.gz to ./data/FashionMNIST/raw/t10k-images-idx3-ubyte.gz\n"
          ]
        },
        {
          "output_type": "stream",
          "name": "stderr",
          "text": [
            "100%|██████████| 4.42M/4.42M [00:01<00:00, 2.52MB/s]\n"
          ]
        },
        {
          "output_type": "stream",
          "name": "stdout",
          "text": [
            "Extracting ./data/FashionMNIST/raw/t10k-images-idx3-ubyte.gz to ./data/FashionMNIST/raw\n",
            "\n",
            "Downloading http://fashion-mnist.s3-website.eu-central-1.amazonaws.com/t10k-labels-idx1-ubyte.gz\n",
            "Downloading http://fashion-mnist.s3-website.eu-central-1.amazonaws.com/t10k-labels-idx1-ubyte.gz to ./data/FashionMNIST/raw/t10k-labels-idx1-ubyte.gz\n"
          ]
        },
        {
          "output_type": "stream",
          "name": "stderr",
          "text": [
            "100%|██████████| 5.15k/5.15k [00:00<00:00, 15.0MB/s]\n"
          ]
        },
        {
          "output_type": "stream",
          "name": "stdout",
          "text": [
            "Extracting ./data/FashionMNIST/raw/t10k-labels-idx1-ubyte.gz to ./data/FashionMNIST/raw\n",
            "\n",
            "Shape of X [N, C, H, W]: torch.Size([64, 1, 28, 28])\n",
            "Shape of y: torch.Size([64]) torch.int64\n",
            "Using cpu device\n",
            "Epoch [1/100], Loss: 0.4057\n",
            "Epoch [2/100], Loss: 0.3526\n",
            "Epoch [3/100], Loss: 0.2858\n",
            "Epoch [4/100], Loss: 0.3003\n",
            "Epoch [5/100], Loss: 0.2930\n",
            "Epoch [6/100], Loss: 0.4740\n",
            "Epoch [7/100], Loss: 0.4554\n",
            "Epoch [8/100], Loss: 0.3852\n",
            "Epoch [9/100], Loss: 0.3222\n",
            "Epoch [10/100], Loss: 0.1557\n",
            "Epoch [11/100], Loss: 0.3207\n",
            "Epoch [12/100], Loss: 0.2955\n",
            "Epoch [13/100], Loss: 0.3426\n",
            "Epoch [14/100], Loss: 0.3127\n",
            "Epoch [15/100], Loss: 0.2730\n",
            "Epoch [16/100], Loss: 0.1054\n",
            "Epoch [17/100], Loss: 0.2153\n",
            "Epoch [18/100], Loss: 0.4065\n",
            "Epoch [19/100], Loss: 0.0820\n",
            "Epoch [20/100], Loss: 0.1992\n",
            "Epoch [21/100], Loss: 0.2002\n",
            "Epoch [22/100], Loss: 0.1396\n",
            "Epoch [23/100], Loss: 0.1201\n",
            "Epoch [24/100], Loss: 0.1987\n",
            "Epoch [25/100], Loss: 0.1221\n",
            "Epoch [26/100], Loss: 0.2304\n",
            "Epoch [27/100], Loss: 0.1899\n",
            "Epoch [28/100], Loss: 0.1924\n",
            "Epoch [29/100], Loss: 0.2749\n",
            "Epoch [30/100], Loss: 0.0823\n",
            "Epoch [31/100], Loss: 0.2467\n",
            "Epoch [32/100], Loss: 0.2248\n",
            "Epoch [33/100], Loss: 0.1305\n",
            "Epoch [34/100], Loss: 0.1423\n",
            "Epoch [35/100], Loss: 0.1431\n",
            "Epoch [36/100], Loss: 0.1989\n",
            "Epoch [37/100], Loss: 0.2080\n",
            "Epoch [38/100], Loss: 0.1876\n",
            "Epoch [39/100], Loss: 0.1552\n",
            "Epoch [40/100], Loss: 0.1713\n",
            "Epoch [41/100], Loss: 0.1927\n",
            "Epoch [42/100], Loss: 0.1787\n",
            "Epoch [43/100], Loss: 0.2080\n",
            "Epoch [44/100], Loss: 0.1547\n",
            "Epoch [45/100], Loss: 0.1898\n",
            "Epoch [46/100], Loss: 0.1736\n",
            "Epoch [47/100], Loss: 0.2411\n",
            "Epoch [48/100], Loss: 0.1553\n",
            "Epoch [49/100], Loss: 0.1692\n",
            "Epoch [50/100], Loss: 0.2050\n",
            "Epoch [51/100], Loss: 0.0330\n",
            "Epoch [52/100], Loss: 0.1374\n",
            "Epoch [53/100], Loss: 0.1132\n",
            "Epoch [54/100], Loss: 0.2367\n",
            "Epoch [55/100], Loss: 0.0521\n",
            "Epoch [56/100], Loss: 0.1158\n",
            "Epoch [57/100], Loss: 0.1712\n",
            "Epoch [58/100], Loss: 0.1004\n",
            "Epoch [59/100], Loss: 0.1204\n",
            "Epoch [60/100], Loss: 0.1058\n",
            "Epoch [61/100], Loss: 0.0768\n",
            "Epoch [62/100], Loss: 0.1142\n",
            "Epoch [63/100], Loss: 0.1706\n",
            "Epoch [64/100], Loss: 0.0482\n",
            "Epoch [65/100], Loss: 0.1233\n",
            "Epoch [66/100], Loss: 0.1438\n",
            "Epoch [67/100], Loss: 0.0546\n",
            "Epoch [68/100], Loss: 0.1136\n",
            "Epoch [69/100], Loss: 0.0848\n",
            "Epoch [70/100], Loss: 0.0888\n",
            "Epoch [71/100], Loss: 0.1302\n",
            "Epoch [72/100], Loss: 0.1306\n",
            "Epoch [73/100], Loss: 0.0799\n",
            "Epoch [74/100], Loss: 0.1819\n",
            "Epoch [75/100], Loss: 0.1379\n",
            "Epoch [76/100], Loss: 0.0555\n",
            "Epoch [77/100], Loss: 0.0870\n",
            "Epoch [78/100], Loss: 0.0833\n",
            "Epoch [79/100], Loss: 0.1053\n",
            "Epoch [80/100], Loss: 0.1412\n",
            "Epoch [81/100], Loss: 0.0783\n",
            "Epoch [82/100], Loss: 0.1312\n",
            "Epoch [83/100], Loss: 0.1154\n",
            "Epoch [84/100], Loss: 0.1231\n",
            "Epoch [85/100], Loss: 0.1302\n",
            "Epoch [86/100], Loss: 0.1584\n",
            "Epoch [87/100], Loss: 0.0416\n",
            "Epoch [88/100], Loss: 0.1067\n",
            "Epoch [89/100], Loss: 0.0774\n",
            "Epoch [90/100], Loss: 0.0334\n",
            "Epoch [91/100], Loss: 0.0598\n",
            "Epoch [92/100], Loss: 0.1070\n",
            "Epoch [93/100], Loss: 0.1124\n",
            "Epoch [94/100], Loss: 0.2338\n",
            "Epoch [95/100], Loss: 0.0960\n",
            "Epoch [96/100], Loss: 0.1415\n",
            "Epoch [97/100], Loss: 0.0778\n",
            "Epoch [98/100], Loss: 0.0179\n",
            "Epoch [99/100], Loss: 0.0665\n",
            "Epoch [100/100], Loss: 0.0556\n",
            "Validation Accuracy: 88.28%\n",
            "Test Accuracy: 87.55%\n"
          ]
        }
      ],
      "source": [
        "import torch\n",
        "import torch.nn as nn\n",
        "import torch.optim as optim\n",
        "import torchvision.transforms as transforms\n",
        "from torchvision.datasets import FashionMNIST\n",
        "from torch.utils.data import DataLoader, random_split\n",
        "\n",
        "\n",
        "#Hyperparameters\n",
        "input_size, hidden_sizes, num_classes = 28 * 28, [256, 128], 10\n",
        "batch_size, num_epochs, lr = 64, 100, 0.001\n",
        "\n",
        "#Data transformations with rotation for generalization\n",
        "transform = transforms.Compose([\n",
        "    transforms.RandomRotation(10),  #Rotate within ±10°\n",
        "    transforms.ToTensor(),\n",
        "    transforms.Normalize((0.5,), (0.5,))\n",
        "])\n",
        "\n",
        "#Dataset\n",
        "train_dataset = FashionMNIST(root='./data', train=True, transform=transform, download=True)\n",
        "test_dataset = FashionMNIST(root='./data', train=False, transform=transform)\n",
        "\n",
        "train_size = int(0.8 * len(train_dataset))\n",
        "val_size = len(train_dataset) - train_size\n",
        "train_data, val_data = random_split(train_dataset, [train_size, val_size])\n",
        "\n",
        "#DataLoaders\n",
        "train_loader = DataLoader(train_data, batch_size=batch_size, shuffle=True)\n",
        "val_loader = DataLoader(val_data, batch_size=batch_size)\n",
        "test_loader = DataLoader(test_dataset, batch_size=batch_size)\n",
        "\n",
        "for X, y in test_loader:\n",
        "    print(f\"Shape of X [N, C, H, W]: {X.shape}\")\n",
        "    print(f\"Shape of y: {y.shape} {y.dtype}\")\n",
        "    break\n",
        "\n",
        "#Device configuration\n",
        "device = torch.device(\"cuda\" if torch.cuda.is_available() else \"cpu\")\n",
        "print(f\"Using {device} device\")\n",
        "\n",
        "#Fully Connected Neural Network\n",
        "class FCNN(nn.Module):\n",
        "    def __init__(self, input_size, hidden_sizes, num_classes):\n",
        "        super().__init__()\n",
        "        layers = []\n",
        "        current_size = input_size\n",
        "        for size in hidden_sizes:\n",
        "            layers.append(nn.Linear(current_size, size))\n",
        "            layers.append(nn.ReLU())\n",
        "            current_size = size\n",
        "        layers.append(nn.Linear(current_size, num_classes))\n",
        "        self.network = nn.Sequential(*layers)\n",
        "\n",
        "    def forward(self, x):\n",
        "        return self.network(x.view(x.size(0), -1))\n",
        "\n",
        "#Initialize model, loss function, and optimizer\n",
        "model = FCNN(input_size, hidden_sizes, num_classes).to(device)\n",
        "criterion, optimizer = nn.CrossEntropyLoss(), optim.Adam(model.parameters(), lr=lr)\n",
        "\n",
        "#Training function\n",
        "def train(model, loader):\n",
        "    model.train()\n",
        "    for epoch in range(num_epochs):\n",
        "        for images, labels in loader:\n",
        "            images, labels = images.to(device), labels.to(device)\n",
        "            optimizer.zero_grad()\n",
        "            criterion(model(images), labels).backward()\n",
        "            optimizer.step()\n",
        "        print(f'Epoch [{epoch + 1}/{num_epochs}], Loss: {criterion(model(images), labels).item():.4f}')\n",
        "\n",
        "#Evaluation function\n",
        "def evaluate(model, loader):\n",
        "    model.eval()\n",
        "    with torch.no_grad():\n",
        "        correct = sum((model(images.to(device)).argmax(1) == labels.to(device)).sum().item()\n",
        "                      for images, labels in loader)\n",
        "    return correct / len(loader.dataset)\n",
        "\n",
        "#Train and evaluate the model\n",
        "train(model, train_loader)\n",
        "print(f'Validation Accuracy: {evaluate(model, val_loader) * 100:.2f}%')\n",
        "print(f'Test Accuracy: {evaluate(model, test_loader) * 100:.2f}%')\n"
      ]
    },
    {
      "cell_type": "code",
      "source": [],
      "metadata": {
        "id": "cQDl90sHeCyc"
      },
      "execution_count": null,
      "outputs": []
    }
  ]
}